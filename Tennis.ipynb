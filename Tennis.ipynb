{
 "cells": [
  {
   "cell_type": "code",
   "execution_count": 2,
   "id": "fa5991b0-6441-40c2-b4e7-05ca2ee1bffb",
   "metadata": {},
   "outputs": [],
   "source": [
    "import pandas as pd\n",
    "import numpy as np\n",
    "import math\n",
    "import glob\n",
    "import os"
   ]
  },
  {
   "cell_type": "markdown",
   "id": "020df131-3943-4b12-821d-7eb0224fd437",
   "metadata": {},
   "source": [
    "# Milestone 1: Calculating ELO rating"
   ]
  },
  {
   "cell_type": "code",
   "execution_count": 3,
   "id": "b54a5915-c059-4e87-814e-21600e917955",
   "metadata": {},
   "outputs": [],
   "source": [
    "wd = os.getcwd()\n",
    "files = glob.glob(wd + '/*.xlsx')\n",
    "for f in files:\n",
    "    if \"US Open\" in f:\n",
    "        files.remove(f)"
   ]
  },
  {
   "cell_type": "markdown",
   "id": "0d7c2c63-2bba-43aa-9d7b-fe46d62160f8",
   "metadata": {},
   "source": [
    "#### New datasets: 4th Aug 2022."
   ]
  },
  {
   "cell_type": "code",
   "execution_count": 5,
   "id": "5ef92106-e31d-480f-b4a6-24cd910f26d5",
   "metadata": {},
   "outputs": [],
   "source": [
    "wd_new = os.getcwd() \n",
    "files_new = glob.glob(wd_new + '/new_datasets/*.xlsx')\n",
    "for f in files_new:\n",
    "    if \"_with_elo\" in f:\n",
    "        files_new.remove(f)"
   ]
  },
  {
   "cell_type": "markdown",
   "id": "ffcf2c76-ba70-4847-b5dc-117ae937caf3",
   "metadata": {},
   "source": [
    "#### New functionalities"
   ]
  },
  {
   "cell_type": "code",
   "execution_count": 175,
   "id": "8ffa8959-06b6-4262-b88e-ade823830354",
   "metadata": {},
   "outputs": [],
   "source": [
    "tournaments = np.array([])\n",
    "rounds = np.array([])\n",
    "surfaces = np.array([])\n",
    "for file in files_new:\n",
    "    df = pd.read_excel(file)\n",
    "    tournaments = np.append(tournaments, df.Tournament.unique())\n",
    "    rounds = np.append(rounds, df.Round.unique())\n",
    "    surfaces = np.append(surfaces, df.Surface.unique())\n",
    "tournaments = np.unique(tournaments)\n",
    "rounds = np.unique(rounds)\n",
    "surfaces = np.unique(surfaces)"
   ]
  },
  {
   "cell_type": "code",
   "execution_count": 176,
   "id": "a7204f7e-cc3d-4472-83b4-5ebf32a99964",
   "metadata": {},
   "outputs": [
    {
     "data": {
      "text/plain": [
       "array(['Carpet', 'Clay', 'Grass', 'Hard', 'I.hard'], dtype=object)"
      ]
     },
     "execution_count": 176,
     "metadata": {},
     "output_type": "execute_result"
    }
   ],
   "source": [
    "surfaces"
   ]
  },
  {
   "cell_type": "code",
   "execution_count": 170,
   "id": "e00a16e1-982d-4711-b803-3d8296839b95",
   "metadata": {},
   "outputs": [
    {
     "name": "stdout",
     "output_type": "stream",
     "text": [
      "ATP Cup - Brisbane, Perth, Sydney\n",
      "ATP Cup - Melbourne\n",
      "ATP Kremlin Cup - Moscow\n",
      "Antalya Cup - Antalya\n",
      "Bet-at-home Cup - Kitzbuhel\n",
      "Kremlin Cup - Moscow\n",
      "Laver Cup - Boston\n",
      "Laver Cup - Chicago\n",
      "Laver Cup - Geneva\n",
      "Laver Cup - Prague\n",
      "Mercedes Cup - Stuttgart\n",
      "Power Horse Cup - Dusseldorf\n",
      "Power Horse World Team Cup - Dusseldorf\n",
      "Rogers Cup - Montreal\n",
      "Rogers Cup - Toronto\n",
      "Tennis Masters Cup - Shanghai\n",
      "Tennis Masters Cup Shanghai - Shanghai\n"
     ]
    }
   ],
   "source": [
    "for tour in tournaments.tolist():\n",
    "    if 'Cup' in tour:\n",
    "        print(tour)"
   ]
  },
  {
   "cell_type": "code",
   "execution_count": null,
   "id": "81c25414-3c01-4e56-a9cf-44899c9228f1",
   "metadata": {},
   "outputs": [],
   "source": [
    "round_points = {}\n",
    "for round in rounds.tolist():\n",
    "    "
   ]
  },
  {
   "cell_type": "code",
   "execution_count": 168,
   "id": "8d731d0c-6d4f-46ba-8a9f-99e6f126258c",
   "metadata": {},
   "outputs": [
    {
     "data": {
      "text/plain": [
       "array(['1/2', '1/4', 'Bronze', 'Final', 'First', 'Fourth', 'Qualifying',\n",
       "       'Robin', 'Second', 'Third', 'q-First', 'q-Second'], dtype=object)"
      ]
     },
     "execution_count": 168,
     "metadata": {},
     "output_type": "execute_result"
    }
   ],
   "source": [
    "rounds"
   ]
  },
  {
   "cell_type": "code",
   "execution_count": 139,
   "id": "b8d0fc1f-415c-4e1b-81b4-1b6f0cdfbaad",
   "metadata": {},
   "outputs": [],
   "source": [
    "masters_keys = ['Indian Wells', 'Miami', 'Monte Carlo', 'Madrid', 'Italian', 'Canadian', 'Cincinnati', 'Shanghai', 'Paris', 'Toronto', 'Rome']\n",
    "atp500_keys = ['Rio', 'Rotterdam', 'Dubai', 'Mexican', 'Mexico', 'Barcelona', \"Queen's\", 'Queen', 'London', 'Halle', 'Hamburg', 'Washington',\n",
    "               'China', 'Bejing', 'Japan', 'Tokyo', 'Vienna', 'Wien', 'Swiss', 'Basel']"
   ]
  },
  {
   "cell_type": "code",
   "execution_count": 86,
   "id": "8a18636f-5ce4-48f2-8431-547da7cef4d1",
   "metadata": {},
   "outputs": [],
   "source": [
    "masters_1000 = []\n",
    "for tour in tournaments.tolist():\n",
    "    for mast in masters_keys:\n",
    "        if mast in tour:\n",
    "            masters_1000.append(tour)\n",
    "for master in masters_1000:\n",
    "    if 'Challenger' in master:\n",
    "        masters_1000.remove(master)\n",
    "masters_1000.remove('French Open - Paris')"
   ]
  },
  {
   "cell_type": "code",
   "execution_count": 160,
   "id": "b1fdc26d-d142-4cb3-91dd-c283c869530a",
   "metadata": {},
   "outputs": [],
   "source": [
    "atp500 = []\n",
    "for tour in tournaments.tolist():\n",
    "    for t in atp500_keys:\n",
    "        if t in tour:\n",
    "            atp500.append(tour)\n",
    "atp500 = list(dict.fromkeys(atp500))\n",
    "removal_keys = ['Challenger', 'Los Cabos', 'Olympics', 'Gstaad', 'Wimbledon', 'Finals']\n",
    "for t in atp500:\n",
    "    for r in removal_keys:\n",
    "        if r in t:\n",
    "            atp500.remove(t)\n",
    "atp500.remove('Olympics - Rio de Janeiro')\n",
    "atp500.remove('Nitto ATP Finals - London')"
   ]
  },
  {
   "cell_type": "code",
   "execution_count": 187,
   "id": "335d9dcf-8f3b-4891-bf1a-4ac81d2ae0af",
   "metadata": {},
   "outputs": [],
   "source": [
    "tour_points = {}\n",
    "for tour in tournaments.tolist():\n",
    "    tour_points.update({tour: 0.7})\n",
    "    if 'Australian Open - Melbourne' in tour:\n",
    "        tour_points.update({tour: 1})\n",
    "    if 'French' in tour:\n",
    "        tour_points.update({tour: 1})\n",
    "    if 'Wimbledon' in tour:\n",
    "        tour_points.update({tour: 1})\n",
    "    if 'U.S. Open' in tour:\n",
    "        tour_points.update({tour: 1})\n",
    "    if 'Finals' in tour:\n",
    "        tour_points.update({tour: 0.9})\n",
    "    if 'Olympics' in tour:\n",
    "        tour_points.update({tour: 0.8})\n",
    "\n",
    "    for mast in masters_1000:\n",
    "        tour_points.update({mast: 0.85})\n",
    "    for tr in atp500:\n",
    "        tour_points.update({tr: 0.75})"
   ]
  },
  {
   "cell_type": "code",
   "execution_count": null,
   "id": "7f5b3ab7-7fed-4af0-8829-ffee0f18c497",
   "metadata": {},
   "outputs": [],
   "source": [
    "\n"
   ]
  },
  {
   "cell_type": "markdown",
   "id": "0e61a902-9fb8-4144-98d7-adf0765e100e",
   "metadata": {},
   "source": [
    "### Function for winning probability of a player"
   ]
  },
  {
   "cell_type": "code",
   "execution_count": 5,
   "id": "64268f7a-55c9-4f18-a59d-0db5a71a5ef3",
   "metadata": {},
   "outputs": [],
   "source": [
    "def probability(elo_1, elo_2):\n",
    "    \n",
    "    return 1/(1 + math.pow(10, (elo_1 - elo_2)/400))"
   ]
  },
  {
   "cell_type": "markdown",
   "id": "1f09fb3c-f763-41f6-92ae-c3d4104cf7f5",
   "metadata": {},
   "source": [
    "### Function for calculating ELO rating"
   ]
  },
  {
   "cell_type": "code",
   "execution_count": 6,
   "id": "fbd8be44-ab5b-409a-a42e-f220e77fa6bb",
   "metadata": {},
   "outputs": [],
   "source": [
    "def elo_rating(rating_player, rating_opponent, K):\n",
    "    \n",
    "    prob_a = probability(rating_opponent, rating_player)\n",
    "    prob_b = probability(rating_player, rating_opponent)\n",
    "    \n",
    "    rating_player = rating_player + K * (1 - prob_a)\n",
    "    rating_opponent = rating_opponent + K * (0 - prob_b)\n",
    "    \n",
    "    return rating_player, rating_opponent"
   ]
  },
  {
   "cell_type": "code",
   "execution_count": null,
   "id": "81c2070c-2dbf-4b97-a448-ea563a3943d4",
   "metadata": {},
   "outputs": [],
   "source": [
    "#df = pd.read_excel(files_new[0])\n",
    "\n",
    "#for index, row in df.iterrows():\n",
    "#    print(row.Tournament)\n",
    "\n",
    "for i in tour_points:\n",
    "       print(i)"
   ]
  },
  {
   "cell_type": "code",
   "execution_count": null,
   "id": "98391d20-1c47-4e2a-b836-c3c0e88f7868",
   "metadata": {},
   "outputs": [],
   "source": [
    "def k_factor():\n",
    "    \n",
    "    "
   ]
  },
  {
   "cell_type": "markdown",
   "id": "3c6d5ca3-c5cc-48ad-ba8e-4173ce613da1",
   "metadata": {},
   "source": [
    "\n",
    "### Function for applying ELO rating to an existing dataset"
   ]
  },
  {
   "cell_type": "code",
   "execution_count": 7,
   "id": "3a5b4ff5-ff8a-46b7-9f27-d0411fafcffe",
   "metadata": {},
   "outputs": [],
   "source": [
    "def apply_elo(df):\n",
    "\n",
    "    K = 32\n",
    "    for index, row in df.iterrows():\n",
    "    #for i in range(df.shape[0]):\n",
    "        for i in tour_points:\n",
    "            if \n",
    "        elo_winner, elo_loser = elo_rating(df.at[index, 'winner_elo'], df.at[index, 'loser_elo'], 32)\n",
    "\n",
    "        df.at[index, 'winner_elo'] = np.around(elo_winner)\n",
    "        df.at[index, 'loser_elo'] = np.around(elo_loser)\n",
    "\n",
    "        winner_name = df['Player 1'][index]\n",
    "        loser_name = df['Player 2'][index]\n",
    "\n",
    "        sub_ww = df.iloc[index:, :][df.iloc[index:, :]['Player 1']==winner_name].winner_elo\n",
    "        sub_ll = df.iloc[index:, :][df.iloc[index:, :]['Player 2']==loser_name].loser_elo\n",
    "        sub_lw = df.iloc[index:, :][df.iloc[index:, :]['Player 2']==winner_name].loser_elo\n",
    "        sub_wl = df.iloc[index:, :][df.iloc[index:, :]['Player 1']==loser_name].winner_elo\n",
    "        \n",
    "        sub_ww.replace(to_replace=sub_ww.values.tolist(), value=np.around(elo_winner), inplace=True)\n",
    "        sub_ll.replace(to_replace=sub_ll.values.tolist(), value=np.around(elo_loser), inplace=True)\n",
    "        sub_lw.replace(to_replace=sub_lw.values.tolist(), value=np.around(elo_winner), inplace=True)\n",
    "        sub_wl.replace(to_replace=sub_wl.values.tolist(), value=np.around(elo_loser), inplace=True)\n",
    "        \n",
    "        df.update(sub_ww)\n",
    "        df.update(sub_ll)\n",
    "        df.update(sub_lw)\n",
    "        df.update(sub_wl)\n",
    "        \n",
    "    return df"
   ]
  },
  {
   "cell_type": "markdown",
   "id": "f661b9dc-0863-4f99-8d0a-f32c7451d818",
   "metadata": {},
   "source": [
    "### Function for extracting season final ELO rating"
   ]
  },
  {
   "cell_type": "code",
   "execution_count": 8,
   "id": "c5f402af-2720-40bc-bf34-798ed39fd3be",
   "metadata": {},
   "outputs": [],
   "source": [
    "def season_final_elo(df):\n",
    "    \n",
    "    list1 = df['Player 1'].unique()\n",
    "    list2 = df['Player 2'].unique()\n",
    "    names = np.unique(np.concatenate((list1, list2))).tolist()\n",
    "    \n",
    "    my_list = []\n",
    "    for name in names:\n",
    "        sub_df = df[((df['Player 1']==name) | (df['Player 2']==name))]\n",
    "        last = sub_df.iloc[-1,:]\n",
    "        \n",
    "        if last['Player 1'] != name:\n",
    "            case = {'Name': name, 'elo': last.loser_elo}\n",
    "            my_list.append(case)\n",
    "        else:\n",
    "            case = {'Name': name, 'elo': last.winner_elo}\n",
    "            my_list.append(case)\n",
    "            \n",
    "    my_df = pd.DataFrame(data=my_list)\n",
    "            \n",
    "    return my_df, names"
   ]
  },
  {
   "cell_type": "markdown",
   "id": "6988e2c9-88b3-4c9a-b5e6-280327b440de",
   "metadata": {},
   "source": [
    "### Function for applying ELO rating of the earlier season to the next season"
   ]
  },
  {
   "cell_type": "code",
   "execution_count": 9,
   "id": "bf53b383-6709-4751-a969-f0fa7c5eb5ac",
   "metadata": {},
   "outputs": [],
   "source": [
    "def apply_elo_on_new_season(df, df_year_earlier):\n",
    "    \n",
    "    my_df, names = season_final_elo(df_year_earlier)\n",
    "\n",
    "    for name in names:\n",
    "\n",
    "        sub_df_win = df[df['Player 1']==name].winner_elo\n",
    "        sub_df_loss = df[df['Player 2']==name].loser_elo\n",
    "\n",
    "        sub_df_win = sub_df_win.replace(to_replace=sub_df_win.values.tolist(), value=float(my_df[my_df['Name']==name].elo.values))\n",
    "        sub_df_loss = sub_df_loss.replace(to_replace=sub_df_loss.values.tolist(), value=float(my_df[my_df['Name']==name].elo.values))\n",
    "\n",
    "        df.update(sub_df_win)\n",
    "        df.update(sub_df_loss)\n",
    "        \n",
    "    return df"
   ]
  },
  {
   "cell_type": "markdown",
   "id": "b73c5c76-d66f-4b68-89f9-069ad10a0959",
   "metadata": {},
   "source": [
    "### Function for datetime formatting, dataframe sorting and initializing ELOs "
   ]
  },
  {
   "cell_type": "code",
   "execution_count": 27,
   "id": "bfc4e0f7-407a-48a4-8a58-eb540659d6eb",
   "metadata": {},
   "outputs": [],
   "source": [
    "def df_preprocessing(file):\n",
    "    \n",
    "    df = pd.read_excel(file)\n",
    "    \n",
    "    for i in range(df.shape[0]):\n",
    "        df.at[i, 'Player 1'] = df.at[i, 'Player 1'].split(') ')[-1]\n",
    "        df.at[i, 'Player 2'] = df.at[i, 'Player 2'].split(') ')[-1]\n",
    "    \n",
    "    #df.tourney_date = pd.to_datetime(df.tourney_date, yearfirst=True, format='%Y%m%d')\n",
    "    df = df.sort_values(by='Date').reset_index(drop=True)\n",
    "    df['Date'] = df['Date'].dt.strftime('%m/%d/%Y')\n",
    "\n",
    "    data = np.ones((len(df), 1))*1500\n",
    "    df['winner_elo'] = data\n",
    "    df['loser_elo'] = data\n",
    "    \n",
    "    return df"
   ]
  },
  {
   "cell_type": "markdown",
   "id": "eb823082-db50-4d1c-b19e-69d0a6db12c1",
   "metadata": {},
   "source": [
    "### Calculating ELO for the first dataset (2010)"
   ]
  },
  {
   "cell_type": "code",
   "execution_count": 28,
   "id": "fb7439cc-8850-4e33-a7d9-115723292e1b",
   "metadata": {},
   "outputs": [],
   "source": [
    "df_list = []\n",
    "\n",
    "df0 = df_preprocessing(files_new[0])\n",
    "df0 = apply_elo(df0)\n",
    "df_list.append(df0)"
   ]
  },
  {
   "cell_type": "markdown",
   "id": "bfce4fbf-5bc7-4ed2-93ee-e7009fc72b1e",
   "metadata": {},
   "source": [
    "### Calculating ELOs for the remaining years (2011-2021)"
   ]
  },
  {
   "cell_type": "code",
   "execution_count": 34,
   "id": "2eab3591-7b1d-4bd9-94f6-4dffb778ef6d",
   "metadata": {},
   "outputs": [],
   "source": [
    "for c in range(1, len(files_new)):\n",
    "    \n",
    "    df_year_earlier = df_list[c-1]\n",
    "    df = df_preprocessing(files_new[c])\n",
    "    df = apply_elo_on_new_season(df, df_year_earlier)\n",
    "    df = apply_elo(df)\n",
    "    df_list.append(df)"
   ]
  },
  {
   "cell_type": "markdown",
   "id": "0c0868fa-0353-404b-b3a7-bd238b63d21b",
   "metadata": {},
   "source": [
    "### Extracting new dataframes as excel tables"
   ]
  },
  {
   "cell_type": "code",
   "execution_count": 35,
   "id": "b78eb6d2-8209-44a5-8158-b03412a0c435",
   "metadata": {},
   "outputs": [],
   "source": [
    "for j in range(len(files_new)):\n",
    "    #doc_name = files_new[j].split('\\\\')[-1].split('.')[0] + '_with_elo.xlsx'\n",
    "    doc_name = files_new[j] + '_with_elo.xlsx'\n",
    "    df_list[j].to_excel(doc_name, index=False)"
   ]
  }
 ],
 "metadata": {
  "kernelspec": {
   "display_name": "Python 3 (ipykernel)",
   "language": "python",
   "name": "python3"
  },
  "language_info": {
   "codemirror_mode": {
    "name": "ipython",
    "version": 3
   },
   "file_extension": ".py",
   "mimetype": "text/x-python",
   "name": "python",
   "nbconvert_exporter": "python",
   "pygments_lexer": "ipython3",
   "version": "3.9.12"
  }
 },
 "nbformat": 4,
 "nbformat_minor": 5
}
